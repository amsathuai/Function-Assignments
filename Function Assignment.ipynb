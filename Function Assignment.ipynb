{
 "cells": [
  {
   "cell_type": "code",
   "execution_count": 1,
   "id": "2630526b",
   "metadata": {},
   "outputs": [
    {
     "name": "stdout",
     "output_type": "stream",
     "text": [
      "SubFields in AI are:\n",
      "Machine Learning\n",
      "Neural Networks\n",
      "Vision\n",
      "Robotics\n",
      "Speech Processing\n",
      "Natural Processing\n"
     ]
    }
   ],
   "source": [
    "def subfields():\n",
    "    print(\"SubFields in AI are:\")\n",
    "    for temp in range(0,1):\n",
    "        print(\"Machine Learning\")\n",
    "        print(\"Neural Networks\")\n",
    "        print(\"Vision\")\n",
    "        print(\"Robotics\")\n",
    "        print(\"Speech Processing\")\n",
    "        print(\"Natural Processing\")\n",
    "subfields()"
   ]
  },
  {
   "cell_type": "code",
   "execution_count": 2,
   "id": "9292ea64",
   "metadata": {},
   "outputs": [
    {
     "name": "stdout",
     "output_type": "stream",
     "text": [
      "Enter the number:52452\n",
      "52452 is Even number\n"
     ]
    }
   ],
   "source": [
    "def OddEven():\n",
    "    number=int(input(\"Enter the number:\"))\n",
    "    if(number%2==0):\n",
    "        Message=print(number,\"is Even number\")\n",
    "        \n",
    "    else:\n",
    "        Message=print(number,\"is Odd NUmber\")\n",
    "    return Message\n",
    "OddEven()"
   ]
  },
  {
   "cell_type": "code",
   "execution_count": 3,
   "id": "b23fbdd3",
   "metadata": {},
   "outputs": [
    {
     "name": "stdout",
     "output_type": "stream",
     "text": [
      "Your Gender male\n",
      "Your age20\n",
      "Not Eligible for Marriage\n"
     ]
    }
   ],
   "source": [
    "def Eligible():\n",
    "    gender=input(\"Your Gender \")\n",
    "    age=int(input(\"Your age\"))\n",
    "    if(gender==\"male\"):\n",
    "        if(age<21):\n",
    "            print(\"Not Eligible for Marriage\")\n",
    "        else:\n",
    "            print(\"Eligible for Marriage\")\n",
    "    else:\n",
    "        if(age<18):\n",
    "            print(\"Not Eligible for Marriage\")\n",
    "        else:\n",
    "            print(\"REligible for marriage\")\n",
    "Eligible()"
   ]
  },
  {
   "cell_type": "code",
   "execution_count": 4,
   "id": "ec883050",
   "metadata": {},
   "outputs": [
    {
     "name": "stdout",
     "output_type": "stream",
     "text": [
      "Subject1=98\n",
      "Subject2=87\n",
      "Subject3=95\n",
      "Subject4=95\n",
      "Subject5=93\n",
      "Total= 468\n",
      "percentage= 93.6\n"
     ]
    }
   ],
   "source": [
    "def percentage():\n",
    "    mark1=int(input(\"Subject1=\"))\n",
    "    mark2=int(input(\"Subject2=\"))\n",
    "    mark3=int(input(\"Subject3=\"))\n",
    "    mark4=int(input(\"Subject4=\"))\n",
    "    mark5=int(input(\"Subject5=\"))\n",
    "    Total=mark1+mark2+mark3+mark4+mark5\n",
    "    print(\"Total=\",Total)\n",
    "    percentage=Total/5\n",
    "    print(\"percentage=\",percentage)\n",
    "percentage()"
   ]
  },
  {
   "cell_type": "code",
   "execution_count": null,
   "id": "2fbff261",
   "metadata": {},
   "outputs": [],
   "source": []
  }
 ],
 "metadata": {
  "kernelspec": {
   "display_name": "Python 3 (ipykernel)",
   "language": "python",
   "name": "python3"
  },
  "language_info": {
   "codemirror_mode": {
    "name": "ipython",
    "version": 3
   },
   "file_extension": ".py",
   "mimetype": "text/x-python",
   "name": "python",
   "nbconvert_exporter": "python",
   "pygments_lexer": "ipython3",
   "version": "3.11.5"
  }
 },
 "nbformat": 4,
 "nbformat_minor": 5
}
